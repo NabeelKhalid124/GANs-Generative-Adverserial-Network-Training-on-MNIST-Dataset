{
  "nbformat": 4,
  "nbformat_minor": 0,
  "metadata": {
    "colab": {
      "provenance": [],
      "gpuType": "T4",
      "authorship_tag": "ABX9TyNQx3HVUlqaqwqFZmvfkn1X"
    },
    "kernelspec": {
      "name": "python3",
      "display_name": "Python 3"
    },
    "language_info": {
      "name": "python"
    },
    "accelerator": "GPU"
  },
  "cells": [
    {
      "cell_type": "code",
      "execution_count": 1,
      "metadata": {
        "id": "dT9Ttt96AT-i"
      },
      "outputs": [],
      "source": [
        "import torch\n",
        "import torch.nn as nn\n",
        "import torchvision\n",
        "import torchvision.transforms as transforms\n",
        "from torch.utils.data import DataLoader\n",
        "import matplotlib.pyplot as plt\n"
      ]
    },
    {
      "cell_type": "code",
      "source": [
        "batch_size = 64\n",
        "learning_rate = 0.0002\n",
        "num_epochs = 50\n",
        "latent_dim = 100  # Dimension of the noise vector\n"
      ],
      "metadata": {
        "id": "Urb3wB1xAggs"
      },
      "execution_count": 23,
      "outputs": []
    },
    {
      "cell_type": "code",
      "source": [
        "transform = transforms.Compose([\n",
        "    transforms.ToTensor(),\n",
        "    transforms.Normalize((0.5,), (0.5,))\n",
        "])\n",
        "\n",
        "dataset = torchvision.datasets.MNIST(\n",
        "    root='./data', train=True, transform=transform, download=True)\n",
        "\n",
        "dataloader = DataLoader(dataset, batch_size=batch_size, shuffle=True)"
      ],
      "metadata": {
        "colab": {
          "base_uri": "https://localhost:8080/"
        },
        "collapsed": true,
        "id": "PUQOdCsNAlco",
        "outputId": "adf14cee-1287-4109-b0dd-d6ae3f6f3fdf"
      },
      "execution_count": 3,
      "outputs": [
        {
          "output_type": "stream",
          "name": "stdout",
          "text": [
            "Downloading http://yann.lecun.com/exdb/mnist/train-images-idx3-ubyte.gz\n",
            "Failed to download (trying next):\n",
            "HTTP Error 404: Not Found\n",
            "\n",
            "Downloading https://ossci-datasets.s3.amazonaws.com/mnist/train-images-idx3-ubyte.gz\n",
            "Downloading https://ossci-datasets.s3.amazonaws.com/mnist/train-images-idx3-ubyte.gz to ./data/MNIST/raw/train-images-idx3-ubyte.gz\n"
          ]
        },
        {
          "output_type": "stream",
          "name": "stderr",
          "text": [
            "100%|██████████| 9.91M/9.91M [00:02<00:00, 4.16MB/s]\n"
          ]
        },
        {
          "output_type": "stream",
          "name": "stdout",
          "text": [
            "Extracting ./data/MNIST/raw/train-images-idx3-ubyte.gz to ./data/MNIST/raw\n",
            "\n",
            "Downloading http://yann.lecun.com/exdb/mnist/train-labels-idx1-ubyte.gz\n",
            "Failed to download (trying next):\n",
            "HTTP Error 404: Not Found\n",
            "\n",
            "Downloading https://ossci-datasets.s3.amazonaws.com/mnist/train-labels-idx1-ubyte.gz\n",
            "Downloading https://ossci-datasets.s3.amazonaws.com/mnist/train-labels-idx1-ubyte.gz to ./data/MNIST/raw/train-labels-idx1-ubyte.gz\n"
          ]
        },
        {
          "output_type": "stream",
          "name": "stderr",
          "text": [
            "100%|██████████| 28.9k/28.9k [00:00<00:00, 134kB/s]\n"
          ]
        },
        {
          "output_type": "stream",
          "name": "stdout",
          "text": [
            "Extracting ./data/MNIST/raw/train-labels-idx1-ubyte.gz to ./data/MNIST/raw\n",
            "\n",
            "Downloading http://yann.lecun.com/exdb/mnist/t10k-images-idx3-ubyte.gz\n",
            "Failed to download (trying next):\n",
            "HTTP Error 404: Not Found\n",
            "\n",
            "Downloading https://ossci-datasets.s3.amazonaws.com/mnist/t10k-images-idx3-ubyte.gz\n",
            "Downloading https://ossci-datasets.s3.amazonaws.com/mnist/t10k-images-idx3-ubyte.gz to ./data/MNIST/raw/t10k-images-idx3-ubyte.gz\n"
          ]
        },
        {
          "output_type": "stream",
          "name": "stderr",
          "text": [
            "100%|██████████| 1.65M/1.65M [00:06<00:00, 241kB/s]\n"
          ]
        },
        {
          "output_type": "stream",
          "name": "stdout",
          "text": [
            "Extracting ./data/MNIST/raw/t10k-images-idx3-ubyte.gz to ./data/MNIST/raw\n",
            "\n",
            "Downloading http://yann.lecun.com/exdb/mnist/t10k-labels-idx1-ubyte.gz\n",
            "Failed to download (trying next):\n",
            "HTTP Error 404: Not Found\n",
            "\n",
            "Downloading https://ossci-datasets.s3.amazonaws.com/mnist/t10k-labels-idx1-ubyte.gz\n",
            "Downloading https://ossci-datasets.s3.amazonaws.com/mnist/t10k-labels-idx1-ubyte.gz to ./data/MNIST/raw/t10k-labels-idx1-ubyte.gz\n"
          ]
        },
        {
          "output_type": "stream",
          "name": "stderr",
          "text": [
            "100%|██████████| 4.54k/4.54k [00:00<00:00, 11.2MB/s]"
          ]
        },
        {
          "output_type": "stream",
          "name": "stdout",
          "text": [
            "Extracting ./data/MNIST/raw/t10k-labels-idx1-ubyte.gz to ./data/MNIST/raw\n",
            "\n"
          ]
        },
        {
          "output_type": "stream",
          "name": "stderr",
          "text": [
            "\n"
          ]
        }
      ]
    },
    {
      "cell_type": "code",
      "source": [
        "class Generator(nn.Module):\n",
        "    def __init__(self, input_dim):\n",
        "        super(Generator, self).__init__()\n",
        "        self.model = nn.Sequential(\n",
        "            nn.Linear(input_dim, 256),\n",
        "            nn.ReLU(True),\n",
        "            nn.Linear(256, 512),\n",
        "            nn.ReLU(True),\n",
        "            nn.Linear(512, 1024),\n",
        "            nn.ReLU(True),\n",
        "            nn.Linear(1024, 28*28),\n",
        "            nn.Tanh()\n",
        "        )\n",
        "\n",
        "    def forward(self, x):\n",
        "        x = self.model(x)\n",
        "        x = x.view(x.size(0), 1, 28, 28)\n",
        "        return x\n"
      ],
      "metadata": {
        "id": "Rw5-yewAApDN"
      },
      "execution_count": 4,
      "outputs": []
    },
    {
      "cell_type": "code",
      "source": [
        "class Discriminator(nn.Module):\n",
        "    def __init__(self):\n",
        "        super(Discriminator, self).__init__()\n",
        "        self.model = nn.Sequential(\n",
        "            nn.Linear(28*28, 1024),\n",
        "            nn.LeakyReLU(0.2, inplace=True),\n",
        "            nn.Dropout(0.3),\n",
        "            nn.Linear(1024, 512),\n",
        "            nn.LeakyReLU(0.2, inplace=True),\n",
        "            nn.Dropout(0.3),\n",
        "            nn.Linear(512, 256),\n",
        "            nn.LeakyReLU(0.2, inplace=True),\n",
        "            nn.Dropout(0.3),\n",
        "            nn.Linear(256, 1),\n",
        "            nn.Sigmoid()\n",
        "        )\n",
        "\n",
        "    def forward(self, x):\n",
        "        x = x.view(x.size(0), -1)\n",
        "        x = self.model(x)\n",
        "        return x\n"
      ],
      "metadata": {
        "id": "vh7ty279BAJo"
      },
      "execution_count": 5,
      "outputs": []
    },
    {
      "cell_type": "code",
      "source": [
        "device = torch.device('cuda' if torch.cuda.is_available() else 'cpu')\n",
        "\n",
        "generator = Generator(latent_dim).to(device)\n",
        "discriminator = Discriminator().to(device)\n",
        "\n",
        "criterion = nn.BCELoss()\n",
        "optimizer_g = torch.optim.Adam(generator.parameters(), lr=learning_rate)\n",
        "optimizer_d = torch.optim.Adam(discriminator.parameters(), lr=learning_rate)\n"
      ],
      "metadata": {
        "id": "81gU0pIxBFRz"
      },
      "execution_count": 6,
      "outputs": []
    },
    {
      "cell_type": "code",
      "source": [
        "for epoch in range(num_epochs):\n",
        "    for i, (real_images, _) in enumerate(dataloader):\n",
        "        batch_size = real_images.size(0)\n",
        "        real_images = real_images.to(device)\n",
        "\n",
        "        # Labels for real and fake images\n",
        "        real_labels = torch.ones(batch_size, 1).to(device)\n",
        "        fake_labels = torch.zeros(batch_size, 1).to(device)\n",
        "\n",
        "        # Train Discriminator\n",
        "        outputs = discriminator(real_images)\n",
        "        d_loss_real = criterion(outputs, real_labels)\n",
        "        real_score = outputs\n",
        "\n",
        "        noise = torch.randn(batch_size, latent_dim).to(device)\n",
        "        fake_images = generator(noise)\n",
        "        outputs = discriminator(fake_images.detach())\n",
        "        d_loss_fake = criterion(outputs, fake_labels)\n",
        "        fake_score = outputs\n",
        "\n",
        "        d_loss = d_loss_real + d_loss_fake\n",
        "        optimizer_d.zero_grad()\n",
        "        d_loss.backward()\n",
        "        optimizer_d.step()\n",
        "\n",
        "        # Train Generator\n",
        "        outputs = discriminator(fake_images)\n",
        "        g_loss = criterion(outputs, real_labels)\n",
        "\n",
        "        optimizer_g.zero_grad()\n",
        "        g_loss.backward()\n",
        "        optimizer_g.step()\n",
        "\n",
        "        if (i+1) % 200 == 0:\n",
        "            print(f'Epoch [{epoch+1}/{num_epochs}], Step [{i+1}/{len(dataloader)}], '\n",
        "                  f'D Loss: {d_loss.item():.4f}, G Loss: {g_loss.item():.4f}, '\n",
        "                  f'D(x): {real_score.mean().item():.2f}, D(G(z)): {fake_score.mean().item():.2f}')\n"
      ],
      "metadata": {
        "colab": {
          "base_uri": "https://localhost:8080/"
        },
        "collapsed": true,
        "id": "AgyHC2i6BH_W",
        "outputId": "97282e68-88c7-43c2-8f5e-7f47cb2c357a"
      },
      "execution_count": 7,
      "outputs": [
        {
          "output_type": "stream",
          "name": "stdout",
          "text": [
            "Epoch [1/50], Step [200/938], D Loss: 0.0565, G Loss: 3.3206, D(x): 1.00, D(G(z)): 0.05\n",
            "Epoch [1/50], Step [400/938], D Loss: 0.2564, G Loss: 5.3968, D(x): 0.90, D(G(z)): 0.12\n",
            "Epoch [1/50], Step [600/938], D Loss: 0.4116, G Loss: 2.7811, D(x): 0.74, D(G(z)): 0.09\n",
            "Epoch [1/50], Step [800/938], D Loss: 1.1490, G Loss: 1.1380, D(x): 0.63, D(G(z)): 0.44\n",
            "Epoch [2/50], Step [200/938], D Loss: 1.1067, G Loss: 0.8401, D(x): 0.77, D(G(z)): 0.52\n",
            "Epoch [2/50], Step [400/938], D Loss: 1.1513, G Loss: 0.9662, D(x): 0.59, D(G(z)): 0.45\n",
            "Epoch [2/50], Step [600/938], D Loss: 1.0867, G Loss: 3.2513, D(x): 0.57, D(G(z)): 0.27\n",
            "Epoch [2/50], Step [800/938], D Loss: 1.4399, G Loss: 0.7926, D(x): 0.52, D(G(z)): 0.50\n",
            "Epoch [3/50], Step [200/938], D Loss: 0.5021, G Loss: 2.0031, D(x): 0.80, D(G(z)): 0.18\n",
            "Epoch [3/50], Step [400/938], D Loss: 0.1862, G Loss: 2.8658, D(x): 0.95, D(G(z)): 0.06\n",
            "Epoch [3/50], Step [600/938], D Loss: 0.6124, G Loss: 1.4820, D(x): 0.77, D(G(z)): 0.25\n",
            "Epoch [3/50], Step [800/938], D Loss: 0.1720, G Loss: 3.6856, D(x): 0.92, D(G(z)): 0.04\n",
            "Epoch [4/50], Step [200/938], D Loss: 1.1457, G Loss: 1.4197, D(x): 0.77, D(G(z)): 0.37\n",
            "Epoch [4/50], Step [400/938], D Loss: 0.8542, G Loss: 2.0113, D(x): 0.83, D(G(z)): 0.26\n",
            "Epoch [4/50], Step [600/938], D Loss: 0.7159, G Loss: 2.7679, D(x): 0.77, D(G(z)): 0.14\n",
            "Epoch [4/50], Step [800/938], D Loss: 0.2959, G Loss: 2.8146, D(x): 0.89, D(G(z)): 0.10\n",
            "Epoch [5/50], Step [200/938], D Loss: 0.1250, G Loss: 3.7347, D(x): 0.95, D(G(z)): 0.05\n",
            "Epoch [5/50], Step [400/938], D Loss: 0.3004, G Loss: 3.4966, D(x): 0.88, D(G(z)): 0.11\n",
            "Epoch [5/50], Step [600/938], D Loss: 0.2487, G Loss: 4.4311, D(x): 0.92, D(G(z)): 0.08\n",
            "Epoch [5/50], Step [800/938], D Loss: 0.2255, G Loss: 3.8205, D(x): 0.93, D(G(z)): 0.10\n",
            "Epoch [6/50], Step [200/938], D Loss: 0.5768, G Loss: 4.2362, D(x): 0.83, D(G(z)): 0.06\n",
            "Epoch [6/50], Step [400/938], D Loss: 0.2661, G Loss: 3.2709, D(x): 0.92, D(G(z)): 0.10\n",
            "Epoch [6/50], Step [600/938], D Loss: 0.3953, G Loss: 3.2039, D(x): 0.94, D(G(z)): 0.20\n",
            "Epoch [6/50], Step [800/938], D Loss: 0.4483, G Loss: 3.7621, D(x): 0.86, D(G(z)): 0.12\n",
            "Epoch [7/50], Step [200/938], D Loss: 0.5275, G Loss: 3.0453, D(x): 0.83, D(G(z)): 0.14\n",
            "Epoch [7/50], Step [400/938], D Loss: 0.3537, G Loss: 2.7596, D(x): 0.91, D(G(z)): 0.17\n",
            "Epoch [7/50], Step [600/938], D Loss: 0.4709, G Loss: 2.4195, D(x): 0.91, D(G(z)): 0.22\n",
            "Epoch [7/50], Step [800/938], D Loss: 0.5931, G Loss: 2.3682, D(x): 0.79, D(G(z)): 0.12\n",
            "Epoch [8/50], Step [200/938], D Loss: 0.4779, G Loss: 2.8162, D(x): 0.94, D(G(z)): 0.21\n",
            "Epoch [8/50], Step [400/938], D Loss: 0.4781, G Loss: 2.8056, D(x): 0.81, D(G(z)): 0.09\n",
            "Epoch [8/50], Step [600/938], D Loss: 0.4416, G Loss: 3.1072, D(x): 0.90, D(G(z)): 0.11\n",
            "Epoch [8/50], Step [800/938], D Loss: 0.5588, G Loss: 2.7979, D(x): 0.87, D(G(z)): 0.20\n",
            "Epoch [9/50], Step [200/938], D Loss: 0.5391, G Loss: 2.2625, D(x): 0.94, D(G(z)): 0.30\n",
            "Epoch [9/50], Step [400/938], D Loss: 0.2308, G Loss: 4.0599, D(x): 0.88, D(G(z)): 0.04\n",
            "Epoch [9/50], Step [600/938], D Loss: 0.7197, G Loss: 2.3513, D(x): 0.78, D(G(z)): 0.20\n",
            "Epoch [9/50], Step [800/938], D Loss: 0.4897, G Loss: 2.5941, D(x): 0.84, D(G(z)): 0.13\n",
            "Epoch [10/50], Step [200/938], D Loss: 0.3621, G Loss: 3.3597, D(x): 0.91, D(G(z)): 0.14\n",
            "Epoch [10/50], Step [400/938], D Loss: 0.3535, G Loss: 2.8617, D(x): 0.86, D(G(z)): 0.07\n",
            "Epoch [10/50], Step [600/938], D Loss: 0.4253, G Loss: 2.5173, D(x): 0.83, D(G(z)): 0.10\n",
            "Epoch [10/50], Step [800/938], D Loss: 0.5975, G Loss: 3.0366, D(x): 0.78, D(G(z)): 0.07\n",
            "Epoch [11/50], Step [200/938], D Loss: 0.5585, G Loss: 2.2138, D(x): 0.87, D(G(z)): 0.24\n",
            "Epoch [11/50], Step [400/938], D Loss: 0.4731, G Loss: 3.2449, D(x): 0.79, D(G(z)): 0.08\n",
            "Epoch [11/50], Step [600/938], D Loss: 0.3344, G Loss: 2.6030, D(x): 0.88, D(G(z)): 0.12\n",
            "Epoch [11/50], Step [800/938], D Loss: 0.4748, G Loss: 2.4329, D(x): 0.85, D(G(z)): 0.16\n",
            "Epoch [12/50], Step [200/938], D Loss: 0.5546, G Loss: 2.5920, D(x): 0.80, D(G(z)): 0.14\n",
            "Epoch [12/50], Step [400/938], D Loss: 0.4607, G Loss: 2.6646, D(x): 0.81, D(G(z)): 0.09\n",
            "Epoch [12/50], Step [600/938], D Loss: 0.8471, G Loss: 2.0705, D(x): 0.85, D(G(z)): 0.30\n",
            "Epoch [12/50], Step [800/938], D Loss: 0.5961, G Loss: 2.8314, D(x): 0.77, D(G(z)): 0.11\n",
            "Epoch [13/50], Step [200/938], D Loss: 0.5282, G Loss: 2.0405, D(x): 0.89, D(G(z)): 0.25\n",
            "Epoch [13/50], Step [400/938], D Loss: 0.5477, G Loss: 2.0523, D(x): 0.83, D(G(z)): 0.21\n",
            "Epoch [13/50], Step [600/938], D Loss: 0.7394, G Loss: 2.2220, D(x): 0.77, D(G(z)): 0.22\n",
            "Epoch [13/50], Step [800/938], D Loss: 0.6772, G Loss: 2.1791, D(x): 0.76, D(G(z)): 0.16\n",
            "Epoch [14/50], Step [200/938], D Loss: 0.5398, G Loss: 2.3151, D(x): 0.87, D(G(z)): 0.19\n",
            "Epoch [14/50], Step [400/938], D Loss: 0.9429, G Loss: 2.0508, D(x): 0.70, D(G(z)): 0.24\n",
            "Epoch [14/50], Step [600/938], D Loss: 0.5164, G Loss: 2.7353, D(x): 0.82, D(G(z)): 0.15\n",
            "Epoch [14/50], Step [800/938], D Loss: 0.7945, G Loss: 1.6237, D(x): 0.72, D(G(z)): 0.25\n",
            "Epoch [15/50], Step [200/938], D Loss: 0.5616, G Loss: 1.8062, D(x): 0.80, D(G(z)): 0.19\n",
            "Epoch [15/50], Step [400/938], D Loss: 0.6982, G Loss: 2.5457, D(x): 0.79, D(G(z)): 0.21\n",
            "Epoch [15/50], Step [600/938], D Loss: 0.6944, G Loss: 1.6392, D(x): 0.83, D(G(z)): 0.28\n",
            "Epoch [15/50], Step [800/938], D Loss: 0.5894, G Loss: 2.4098, D(x): 0.80, D(G(z)): 0.19\n",
            "Epoch [16/50], Step [200/938], D Loss: 0.5838, G Loss: 1.9386, D(x): 0.79, D(G(z)): 0.20\n",
            "Epoch [16/50], Step [400/938], D Loss: 0.7214, G Loss: 1.5252, D(x): 0.77, D(G(z)): 0.31\n",
            "Epoch [16/50], Step [600/938], D Loss: 0.5492, G Loss: 1.9109, D(x): 0.84, D(G(z)): 0.23\n",
            "Epoch [16/50], Step [800/938], D Loss: 0.7869, G Loss: 1.6625, D(x): 0.74, D(G(z)): 0.29\n",
            "Epoch [17/50], Step [200/938], D Loss: 0.8194, G Loss: 2.3544, D(x): 0.85, D(G(z)): 0.28\n",
            "Epoch [17/50], Step [400/938], D Loss: 0.5855, G Loss: 1.7137, D(x): 0.83, D(G(z)): 0.24\n",
            "Epoch [17/50], Step [600/938], D Loss: 1.0047, G Loss: 1.7793, D(x): 0.64, D(G(z)): 0.22\n",
            "Epoch [17/50], Step [800/938], D Loss: 0.7956, G Loss: 2.1677, D(x): 0.68, D(G(z)): 0.18\n",
            "Epoch [18/50], Step [200/938], D Loss: 0.7326, G Loss: 2.3125, D(x): 0.76, D(G(z)): 0.21\n",
            "Epoch [18/50], Step [400/938], D Loss: 0.6614, G Loss: 1.6888, D(x): 0.77, D(G(z)): 0.24\n",
            "Epoch [18/50], Step [600/938], D Loss: 1.0699, G Loss: 1.2219, D(x): 0.66, D(G(z)): 0.37\n",
            "Epoch [18/50], Step [800/938], D Loss: 0.8798, G Loss: 1.4860, D(x): 0.68, D(G(z)): 0.26\n",
            "Epoch [19/50], Step [200/938], D Loss: 0.6094, G Loss: 2.0627, D(x): 0.75, D(G(z)): 0.18\n",
            "Epoch [19/50], Step [400/938], D Loss: 0.6968, G Loss: 1.5471, D(x): 0.83, D(G(z)): 0.33\n",
            "Epoch [19/50], Step [600/938], D Loss: 0.8619, G Loss: 1.8151, D(x): 0.65, D(G(z)): 0.23\n",
            "Epoch [19/50], Step [800/938], D Loss: 0.7911, G Loss: 1.6556, D(x): 0.76, D(G(z)): 0.28\n",
            "Epoch [20/50], Step [200/938], D Loss: 0.6690, G Loss: 1.6407, D(x): 0.79, D(G(z)): 0.22\n",
            "Epoch [20/50], Step [400/938], D Loss: 0.8231, G Loss: 1.4462, D(x): 0.70, D(G(z)): 0.27\n",
            "Epoch [20/50], Step [600/938], D Loss: 0.7585, G Loss: 1.9462, D(x): 0.83, D(G(z)): 0.28\n",
            "Epoch [20/50], Step [800/938], D Loss: 0.8364, G Loss: 1.6402, D(x): 0.77, D(G(z)): 0.32\n",
            "Epoch [21/50], Step [200/938], D Loss: 0.8862, G Loss: 1.5833, D(x): 0.69, D(G(z)): 0.28\n",
            "Epoch [21/50], Step [400/938], D Loss: 0.7251, G Loss: 1.6607, D(x): 0.76, D(G(z)): 0.27\n",
            "Epoch [21/50], Step [600/938], D Loss: 0.7825, G Loss: 1.4092, D(x): 0.75, D(G(z)): 0.31\n",
            "Epoch [21/50], Step [800/938], D Loss: 1.1534, G Loss: 1.5436, D(x): 0.59, D(G(z)): 0.33\n",
            "Epoch [22/50], Step [200/938], D Loss: 1.1804, G Loss: 1.2901, D(x): 0.66, D(G(z)): 0.33\n",
            "Epoch [22/50], Step [400/938], D Loss: 0.6293, G Loss: 2.1207, D(x): 0.76, D(G(z)): 0.21\n",
            "Epoch [22/50], Step [600/938], D Loss: 0.7833, G Loss: 1.9573, D(x): 0.73, D(G(z)): 0.24\n",
            "Epoch [22/50], Step [800/938], D Loss: 0.7399, G Loss: 1.9233, D(x): 0.72, D(G(z)): 0.22\n",
            "Epoch [23/50], Step [200/938], D Loss: 0.9349, G Loss: 1.3337, D(x): 0.79, D(G(z)): 0.40\n",
            "Epoch [23/50], Step [400/938], D Loss: 1.1076, G Loss: 1.3379, D(x): 0.70, D(G(z)): 0.41\n",
            "Epoch [23/50], Step [600/938], D Loss: 0.7779, G Loss: 1.4787, D(x): 0.71, D(G(z)): 0.24\n",
            "Epoch [23/50], Step [800/938], D Loss: 0.8447, G Loss: 1.6020, D(x): 0.67, D(G(z)): 0.28\n",
            "Epoch [24/50], Step [200/938], D Loss: 0.6611, G Loss: 1.7232, D(x): 0.81, D(G(z)): 0.29\n",
            "Epoch [24/50], Step [400/938], D Loss: 1.0768, G Loss: 1.6616, D(x): 0.66, D(G(z)): 0.34\n",
            "Epoch [24/50], Step [600/938], D Loss: 1.0894, G Loss: 1.3946, D(x): 0.62, D(G(z)): 0.33\n",
            "Epoch [24/50], Step [800/938], D Loss: 0.9003, G Loss: 1.6293, D(x): 0.67, D(G(z)): 0.26\n",
            "Epoch [25/50], Step [200/938], D Loss: 0.8520, G Loss: 1.4646, D(x): 0.77, D(G(z)): 0.37\n",
            "Epoch [25/50], Step [400/938], D Loss: 1.0468, G Loss: 1.7243, D(x): 0.62, D(G(z)): 0.28\n",
            "Epoch [25/50], Step [600/938], D Loss: 1.1647, G Loss: 1.8635, D(x): 0.62, D(G(z)): 0.31\n",
            "Epoch [25/50], Step [800/938], D Loss: 0.8500, G Loss: 1.3101, D(x): 0.70, D(G(z)): 0.28\n",
            "Epoch [26/50], Step [200/938], D Loss: 0.9901, G Loss: 1.3732, D(x): 0.60, D(G(z)): 0.29\n",
            "Epoch [26/50], Step [400/938], D Loss: 0.9312, G Loss: 1.2388, D(x): 0.67, D(G(z)): 0.32\n",
            "Epoch [26/50], Step [600/938], D Loss: 1.0449, G Loss: 1.2043, D(x): 0.63, D(G(z)): 0.35\n",
            "Epoch [26/50], Step [800/938], D Loss: 0.9374, G Loss: 1.5968, D(x): 0.70, D(G(z)): 0.32\n",
            "Epoch [27/50], Step [200/938], D Loss: 1.0019, G Loss: 1.0204, D(x): 0.77, D(G(z)): 0.43\n",
            "Epoch [27/50], Step [400/938], D Loss: 0.8702, G Loss: 1.5500, D(x): 0.71, D(G(z)): 0.31\n",
            "Epoch [27/50], Step [600/938], D Loss: 1.1808, G Loss: 1.1852, D(x): 0.65, D(G(z)): 0.38\n",
            "Epoch [27/50], Step [800/938], D Loss: 0.9651, G Loss: 1.4573, D(x): 0.69, D(G(z)): 0.34\n",
            "Epoch [28/50], Step [200/938], D Loss: 1.0242, G Loss: 1.3397, D(x): 0.59, D(G(z)): 0.31\n",
            "Epoch [28/50], Step [400/938], D Loss: 1.4013, G Loss: 0.8502, D(x): 0.62, D(G(z)): 0.51\n",
            "Epoch [28/50], Step [600/938], D Loss: 0.8697, G Loss: 1.7089, D(x): 0.68, D(G(z)): 0.29\n",
            "Epoch [28/50], Step [800/938], D Loss: 0.8342, G Loss: 1.5438, D(x): 0.72, D(G(z)): 0.30\n",
            "Epoch [29/50], Step [200/938], D Loss: 0.8001, G Loss: 1.6698, D(x): 0.73, D(G(z)): 0.30\n",
            "Epoch [29/50], Step [400/938], D Loss: 1.3474, G Loss: 1.1391, D(x): 0.52, D(G(z)): 0.36\n",
            "Epoch [29/50], Step [600/938], D Loss: 0.8383, G Loss: 1.9714, D(x): 0.68, D(G(z)): 0.22\n",
            "Epoch [29/50], Step [800/938], D Loss: 1.1766, G Loss: 1.1510, D(x): 0.57, D(G(z)): 0.35\n",
            "Epoch [30/50], Step [200/938], D Loss: 1.3328, G Loss: 1.1957, D(x): 0.55, D(G(z)): 0.38\n",
            "Epoch [30/50], Step [400/938], D Loss: 1.2297, G Loss: 1.3858, D(x): 0.58, D(G(z)): 0.35\n",
            "Epoch [30/50], Step [600/938], D Loss: 0.9260, G Loss: 1.3548, D(x): 0.71, D(G(z)): 0.37\n",
            "Epoch [30/50], Step [800/938], D Loss: 1.4021, G Loss: 1.0270, D(x): 0.64, D(G(z)): 0.45\n",
            "Epoch [31/50], Step [200/938], D Loss: 1.0766, G Loss: 1.2832, D(x): 0.59, D(G(z)): 0.34\n",
            "Epoch [31/50], Step [400/938], D Loss: 0.9482, G Loss: 1.3402, D(x): 0.68, D(G(z)): 0.34\n",
            "Epoch [31/50], Step [600/938], D Loss: 1.3081, G Loss: 1.1362, D(x): 0.58, D(G(z)): 0.41\n",
            "Epoch [31/50], Step [800/938], D Loss: 1.2492, G Loss: 1.4133, D(x): 0.57, D(G(z)): 0.35\n",
            "Epoch [32/50], Step [200/938], D Loss: 1.2742, G Loss: 1.3076, D(x): 0.66, D(G(z)): 0.45\n",
            "Epoch [32/50], Step [400/938], D Loss: 1.0110, G Loss: 1.3956, D(x): 0.62, D(G(z)): 0.34\n",
            "Epoch [32/50], Step [600/938], D Loss: 1.0585, G Loss: 1.1497, D(x): 0.66, D(G(z)): 0.40\n",
            "Epoch [32/50], Step [800/938], D Loss: 1.1223, G Loss: 1.4749, D(x): 0.61, D(G(z)): 0.31\n",
            "Epoch [33/50], Step [200/938], D Loss: 1.1213, G Loss: 0.9894, D(x): 0.63, D(G(z)): 0.38\n",
            "Epoch [33/50], Step [400/938], D Loss: 1.1693, G Loss: 1.2597, D(x): 0.62, D(G(z)): 0.39\n",
            "Epoch [33/50], Step [600/938], D Loss: 1.1432, G Loss: 1.2800, D(x): 0.66, D(G(z)): 0.37\n",
            "Epoch [33/50], Step [800/938], D Loss: 0.9204, G Loss: 1.4477, D(x): 0.70, D(G(z)): 0.33\n",
            "Epoch [34/50], Step [200/938], D Loss: 0.9741, G Loss: 1.2330, D(x): 0.68, D(G(z)): 0.36\n",
            "Epoch [34/50], Step [400/938], D Loss: 1.2191, G Loss: 1.0239, D(x): 0.62, D(G(z)): 0.45\n",
            "Epoch [34/50], Step [600/938], D Loss: 1.2162, G Loss: 0.9215, D(x): 0.64, D(G(z)): 0.45\n",
            "Epoch [34/50], Step [800/938], D Loss: 1.1267, G Loss: 1.0559, D(x): 0.65, D(G(z)): 0.38\n",
            "Epoch [35/50], Step [200/938], D Loss: 1.0263, G Loss: 1.6737, D(x): 0.60, D(G(z)): 0.28\n",
            "Epoch [35/50], Step [400/938], D Loss: 1.0591, G Loss: 1.0091, D(x): 0.65, D(G(z)): 0.39\n",
            "Epoch [35/50], Step [600/938], D Loss: 1.1053, G Loss: 1.0003, D(x): 0.62, D(G(z)): 0.40\n",
            "Epoch [35/50], Step [800/938], D Loss: 1.1129, G Loss: 1.1394, D(x): 0.58, D(G(z)): 0.34\n",
            "Epoch [36/50], Step [200/938], D Loss: 1.3088, G Loss: 1.1562, D(x): 0.52, D(G(z)): 0.39\n",
            "Epoch [36/50], Step [400/938], D Loss: 0.9463, G Loss: 1.2543, D(x): 0.67, D(G(z)): 0.34\n",
            "Epoch [36/50], Step [600/938], D Loss: 1.0609, G Loss: 1.1758, D(x): 0.68, D(G(z)): 0.38\n",
            "Epoch [36/50], Step [800/938], D Loss: 1.1437, G Loss: 0.8790, D(x): 0.59, D(G(z)): 0.41\n",
            "Epoch [37/50], Step [200/938], D Loss: 1.0394, G Loss: 1.0800, D(x): 0.62, D(G(z)): 0.36\n",
            "Epoch [37/50], Step [400/938], D Loss: 1.1510, G Loss: 1.1866, D(x): 0.63, D(G(z)): 0.40\n",
            "Epoch [37/50], Step [600/938], D Loss: 0.9383, G Loss: 1.3114, D(x): 0.71, D(G(z)): 0.35\n",
            "Epoch [37/50], Step [800/938], D Loss: 1.0585, G Loss: 1.3457, D(x): 0.66, D(G(z)): 0.36\n",
            "Epoch [38/50], Step [200/938], D Loss: 1.0438, G Loss: 1.3757, D(x): 0.67, D(G(z)): 0.38\n",
            "Epoch [38/50], Step [400/938], D Loss: 1.1808, G Loss: 0.9470, D(x): 0.61, D(G(z)): 0.42\n",
            "Epoch [38/50], Step [600/938], D Loss: 1.0566, G Loss: 0.9131, D(x): 0.65, D(G(z)): 0.40\n",
            "Epoch [38/50], Step [800/938], D Loss: 1.3159, G Loss: 1.0767, D(x): 0.56, D(G(z)): 0.42\n",
            "Epoch [39/50], Step [200/938], D Loss: 1.1801, G Loss: 1.4826, D(x): 0.63, D(G(z)): 0.40\n",
            "Epoch [39/50], Step [400/938], D Loss: 0.9218, G Loss: 1.3206, D(x): 0.65, D(G(z)): 0.30\n",
            "Epoch [39/50], Step [600/938], D Loss: 1.0374, G Loss: 1.1834, D(x): 0.62, D(G(z)): 0.37\n",
            "Epoch [39/50], Step [800/938], D Loss: 1.2513, G Loss: 0.8955, D(x): 0.56, D(G(z)): 0.42\n",
            "Epoch [40/50], Step [200/938], D Loss: 1.1094, G Loss: 1.1942, D(x): 0.62, D(G(z)): 0.38\n",
            "Epoch [40/50], Step [400/938], D Loss: 1.1496, G Loss: 1.1286, D(x): 0.60, D(G(z)): 0.40\n",
            "Epoch [40/50], Step [600/938], D Loss: 1.1259, G Loss: 1.0702, D(x): 0.55, D(G(z)): 0.36\n",
            "Epoch [40/50], Step [800/938], D Loss: 1.2098, G Loss: 1.1027, D(x): 0.55, D(G(z)): 0.38\n",
            "Epoch [41/50], Step [200/938], D Loss: 1.0826, G Loss: 1.2188, D(x): 0.62, D(G(z)): 0.35\n",
            "Epoch [41/50], Step [400/938], D Loss: 1.1654, G Loss: 1.0081, D(x): 0.61, D(G(z)): 0.40\n",
            "Epoch [41/50], Step [600/938], D Loss: 1.0771, G Loss: 1.1760, D(x): 0.65, D(G(z)): 0.39\n",
            "Epoch [41/50], Step [800/938], D Loss: 1.3859, G Loss: 0.8604, D(x): 0.59, D(G(z)): 0.49\n",
            "Epoch [42/50], Step [200/938], D Loss: 0.9992, G Loss: 1.1711, D(x): 0.61, D(G(z)): 0.31\n",
            "Epoch [42/50], Step [400/938], D Loss: 1.0908, G Loss: 1.2012, D(x): 0.62, D(G(z)): 0.37\n",
            "Epoch [42/50], Step [600/938], D Loss: 1.0318, G Loss: 1.2522, D(x): 0.62, D(G(z)): 0.36\n",
            "Epoch [42/50], Step [800/938], D Loss: 1.0846, G Loss: 1.2862, D(x): 0.62, D(G(z)): 0.35\n",
            "Epoch [43/50], Step [200/938], D Loss: 1.0790, G Loss: 1.1013, D(x): 0.62, D(G(z)): 0.36\n",
            "Epoch [43/50], Step [400/938], D Loss: 1.2547, G Loss: 1.0189, D(x): 0.57, D(G(z)): 0.43\n",
            "Epoch [43/50], Step [600/938], D Loss: 1.2432, G Loss: 1.0890, D(x): 0.62, D(G(z)): 0.44\n",
            "Epoch [43/50], Step [800/938], D Loss: 0.8809, G Loss: 1.4500, D(x): 0.69, D(G(z)): 0.34\n",
            "Epoch [44/50], Step [200/938], D Loss: 1.4108, G Loss: 0.9219, D(x): 0.60, D(G(z)): 0.47\n",
            "Epoch [44/50], Step [400/938], D Loss: 1.0923, G Loss: 1.2091, D(x): 0.65, D(G(z)): 0.41\n",
            "Epoch [44/50], Step [600/938], D Loss: 0.9683, G Loss: 0.9995, D(x): 0.70, D(G(z)): 0.40\n",
            "Epoch [44/50], Step [800/938], D Loss: 1.1867, G Loss: 1.0950, D(x): 0.56, D(G(z)): 0.38\n",
            "Epoch [45/50], Step [200/938], D Loss: 1.4151, G Loss: 1.3866, D(x): 0.58, D(G(z)): 0.41\n",
            "Epoch [45/50], Step [400/938], D Loss: 1.0572, G Loss: 1.3032, D(x): 0.67, D(G(z)): 0.38\n",
            "Epoch [45/50], Step [600/938], D Loss: 1.0539, G Loss: 1.2019, D(x): 0.62, D(G(z)): 0.37\n",
            "Epoch [45/50], Step [800/938], D Loss: 1.0720, G Loss: 1.2395, D(x): 0.59, D(G(z)): 0.35\n",
            "Epoch [46/50], Step [200/938], D Loss: 1.0768, G Loss: 1.1473, D(x): 0.62, D(G(z)): 0.36\n",
            "Epoch [46/50], Step [400/938], D Loss: 1.1455, G Loss: 1.3190, D(x): 0.60, D(G(z)): 0.36\n",
            "Epoch [46/50], Step [600/938], D Loss: 1.1901, G Loss: 0.8109, D(x): 0.65, D(G(z)): 0.47\n",
            "Epoch [46/50], Step [800/938], D Loss: 1.3323, G Loss: 0.9404, D(x): 0.56, D(G(z)): 0.45\n",
            "Epoch [47/50], Step [200/938], D Loss: 1.2853, G Loss: 0.8400, D(x): 0.62, D(G(z)): 0.47\n",
            "Epoch [47/50], Step [400/938], D Loss: 1.0066, G Loss: 1.0703, D(x): 0.61, D(G(z)): 0.36\n",
            "Epoch [47/50], Step [600/938], D Loss: 1.0313, G Loss: 1.1361, D(x): 0.64, D(G(z)): 0.38\n",
            "Epoch [47/50], Step [800/938], D Loss: 1.2061, G Loss: 1.1963, D(x): 0.56, D(G(z)): 0.36\n",
            "Epoch [48/50], Step [200/938], D Loss: 1.4109, G Loss: 1.1450, D(x): 0.49, D(G(z)): 0.37\n",
            "Epoch [48/50], Step [400/938], D Loss: 1.2065, G Loss: 0.8828, D(x): 0.53, D(G(z)): 0.39\n",
            "Epoch [48/50], Step [600/938], D Loss: 1.1558, G Loss: 1.1911, D(x): 0.58, D(G(z)): 0.37\n",
            "Epoch [48/50], Step [800/938], D Loss: 1.1264, G Loss: 1.0971, D(x): 0.66, D(G(z)): 0.43\n",
            "Epoch [49/50], Step [200/938], D Loss: 1.1824, G Loss: 1.0185, D(x): 0.60, D(G(z)): 0.43\n",
            "Epoch [49/50], Step [400/938], D Loss: 1.0388, G Loss: 1.5883, D(x): 0.57, D(G(z)): 0.27\n",
            "Epoch [49/50], Step [600/938], D Loss: 1.0476, G Loss: 0.9433, D(x): 0.67, D(G(z)): 0.42\n",
            "Epoch [49/50], Step [800/938], D Loss: 1.1635, G Loss: 0.9610, D(x): 0.62, D(G(z)): 0.44\n",
            "Epoch [50/50], Step [200/938], D Loss: 0.9744, G Loss: 1.1854, D(x): 0.63, D(G(z)): 0.33\n",
            "Epoch [50/50], Step [400/938], D Loss: 1.0902, G Loss: 1.0529, D(x): 0.59, D(G(z)): 0.38\n",
            "Epoch [50/50], Step [600/938], D Loss: 1.3031, G Loss: 1.1123, D(x): 0.56, D(G(z)): 0.39\n",
            "Epoch [50/50], Step [800/938], D Loss: 0.9113, G Loss: 1.1686, D(x): 0.65, D(G(z)): 0.32\n"
          ]
        }
      ]
    },
    {
      "cell_type": "code",
      "source": [
        "import matplotlib.pyplot as plt\n",
        "noise = torch.randn(batch_size, latent_dim).to(device)\n",
        "fake_images = generator(noise)\n",
        "fake_images = fake_images.cpu().detach()\n",
        "\n",
        "grid = torchvision.utils.make_grid(fake_images, nrow=8, normalize=True)\n",
        "plt.figure(figsize=(10, 10))\n",
        "plt.axis('off')\n",
        "plt.title('Generated Images')\n",
        "plt.imshow(grid.permute(1, 2, 0))\n",
        "plt.show()"
      ],
      "metadata": {
        "colab": {
          "base_uri": "https://localhost:8080/",
          "height": 829
        },
        "id": "cPjSZSCVBL4E",
        "outputId": "bb4a2f2b-dc45-426e-95b9-8dbdceb00c37"
      },
      "execution_count": 24,
      "outputs": [
        {
          "output_type": "display_data",
          "data": {
            "text/plain": [
              "<Figure size 1000x1000 with 1 Axes>"
            ],
            "image/png": "[encoded data removed]"
          },
          "metadata": {}
        }
      ]
    },
    {
      "cell_type": "code",
      "source": [],
      "metadata": {
        "id": "iHYj0EigEqIw"
      },
      "execution_count": null,
      "outputs": []
    }
  ]
}